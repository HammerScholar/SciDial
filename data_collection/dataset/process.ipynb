{
 "cells": [
  {
   "cell_type": "code",
   "execution_count": null,
   "metadata": {},
   "outputs": [],
   "source": [
    "# 机构略去城市等\n",
    "import json\n",
    "with open(\"db_process/author_db.json\",\"r\",encoding=\"utf-8\") as fw:\n",
    "    author=json.load(fw)\n",
    "for i in author:\n",
    "    affiliation=[]\n",
    "    for j in i[\"affiliation\"]:\n",
    "        if j == \"\":\n",
    "            continue\n",
    "        affiliation.append(j.replace(\"，\",\" \").replace('；',\" \").replace(\".\",\"\").strip().split()[0])\n",
    "    i[\"affiliation\"]=affiliation\n",
    "with open(\"db_process/author_db.json\",\"w\",encoding=\"utf-8\") as fw:\n",
    "    json.dump(author,fw,indent=4,ensure_ascii=False)"
   ]
  },
  {
   "cell_type": "code",
   "execution_count": 27,
   "metadata": {},
   "outputs": [],
   "source": [
    "# 填入机构\n",
    "import json\n",
    "with open(\"db_process/paper_db.json\",\"r\",encoding=\"utf-8\") as fw:\n",
    "    paper=json.load(fw)\n",
    "with open(\"db_process/author_db.json\",\"r\",encoding=\"utf-8\") as fw:\n",
    "    author=json.load(fw)\n",
    "data={}\n",
    "for i in author:\n",
    "    data[i[\"name_zh\"]] = i\n",
    "for i in paper:\n",
    "    institution=[]\n",
    "    for j in i[\"author\"]:\n",
    "        institution += data[j][\"affiliation\"]\n",
    "    i[\"institution\"] = institution\n",
    "with open(\"db_process/paper_db.json\",\"w\",encoding=\"utf-8\") as fw:\n",
    "    json.dump(paper,fw,indent=4,ensure_ascii=False)"
   ]
  },
  {
   "cell_type": "code",
   "execution_count": 26,
   "metadata": {},
   "outputs": [],
   "source": [
    "# 机构排名\n",
    "import json\n",
    "with open(\"db_process/author_db.json\",\"r\",encoding=\"utf-8\") as fw:\n",
    "    author=json.load(fw)\n",
    "data={}\n",
    "for i in author:\n",
    "    for j in i[\"affiliation\"]:\n",
    "        if j in data.keys():\n",
    "            data[j] += 1\n",
    "        else:\n",
    "            data[j] = 1\n",
    "data=sorted(data.items(),key=lambda x:x[1], reverse=True)\n",
    "result = [{\"name\":i[0], \"address\": \"\", \"website\": \"\"} for i in data[:30]]\n",
    "with open(\"db_process/institution_db.json\",\"w\",encoding=\"utf-8\") as fw:\n",
    "    json.dump(result,fw,indent=4,ensure_ascii=False)"
   ]
  },
  {
   "cell_type": "code",
   "execution_count": null,
   "metadata": {},
   "outputs": [],
   "source": [
    "# 重命名字段\n",
    "import json\n",
    "with open(\"db_process/conference_db.json\",\"r\",encoding=\"utf-8\") as fw:\n",
    "    data=json.load(fw)\n",
    "for doc in data:\n",
    "    doc[\"fullName\"] = doc.pop(\"name\")\n",
    "with open(\"db_process/conference_db.json\",\"w\",encoding=\"utf-8\") as fw:\n",
    "    json.dump(data,fw,indent=4,ensure_ascii=False)"
   ]
  }
 ],
 "metadata": {
  "interpreter": {
   "hash": "54f4cf6af044592288187f397fb324841d4c83addf22e4a134cd1393f3cb0b77"
  },
  "kernelspec": {
   "display_name": "Python 3.10.9 64-bit (windows store)",
   "language": "python",
   "name": "python3"
  },
  "language_info": {
   "codemirror_mode": {
    "name": "ipython",
    "version": 3
   },
   "file_extension": ".py",
   "mimetype": "text/x-python",
   "name": "python",
   "nbconvert_exporter": "python",
   "pygments_lexer": "ipython3",
   "version": "3.9.7"
  },
  "orig_nbformat": 4
 },
 "nbformat": 4,
 "nbformat_minor": 2
}
